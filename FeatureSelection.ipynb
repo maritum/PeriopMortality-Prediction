{
 "cells": [
  {
   "cell_type": "markdown",
   "metadata": {},
   "source": [
    "### Import all the required libraries"
   ]
  },
  {
   "cell_type": "code",
   "execution_count": null,
   "metadata": {
    "ExecuteTime": {
     "end_time": "2022-04-29T21:23:52.869285Z",
     "start_time": "2022-04-29T21:23:45.681810Z"
    }
   },
   "outputs": [],
   "source": [
    "from scipy.sparse import hstack\n",
    "from boruta import BorutaPy\n",
    "from sklearn.preprocessing import OneHotEncoder, StandardScaler\n",
    "from sklearn.ensemble import RandomForestClassifier\n",
    "import warnings\n",
    "import matplotlib.pyplot as plt\n",
    "import pickle\n",
    "import pandas as pd\n",
    "import numpy as np\n",
    "import os\n",
    "import sys\n",
    "import re\n",
    "import json\n",
    "\n",
    "import time\n",
    "\n",
    "from tqdm import tqdm\n",
    "\n",
    "print(sys.version_info)\n",
    "\n",
    "home_dir = os.getenv(\"HOME\")\n",
    "print(os.getenv(\"PYTHONPATH\"))\n",
    "\n",
    "warnings.filterwarnings(\"ignore\")"
   ]
  },
  {
   "cell_type": "markdown",
   "metadata": {},
   "source": [
    "## Helper functions"
   ]
  },
  {
   "cell_type": "code",
   "execution_count": null,
   "metadata": {
    "ExecuteTime": {
     "end_time": "2022-04-29T21:24:10.909446Z",
     "start_time": "2022-04-29T21:24:10.904018Z"
    }
   },
   "outputs": [],
   "source": [
    "def save_obj(obj, name):\n",
    "    with open(name + '.pkl', 'wb') as f:\n",
    "        pickle.dump(obj, f, pickle.HIGHEST_PROTOCOL)\n",
    "\n",
    "\n",
    "def load_obj(name):\n",
    "    with open(name + '.pkl', 'rb') as f:\n",
    "        return pickle.load(f)"
   ]
  },
  {
   "cell_type": "code",
   "execution_count": null,
   "metadata": {
    "ExecuteTime": {
     "end_time": "2022-04-29T21:24:11.665798Z",
     "start_time": "2022-04-29T21:24:11.647427Z"
    }
   },
   "outputs": [],
   "source": [
    "def reduce_mem_usage(df):\n",
    "    \"\"\" iterate through all the columns of a dataframe and modify the data type\n",
    "        to reduce memory usage.        \n",
    "    \"\"\"\n",
    "    start_mem = df.memory_usage().sum() / 1024**2\n",
    "    print('Memory usage of dataframe is {:.2f} MB'.format(start_mem))\n",
    "    df_types = df.dtypes\n",
    "    for col in df.columns:\n",
    "        col_type = df[col].dtype\n",
    "        # filter data types excluding object and datetime\n",
    "        if (col_type != object) and (col_type != 'M8[ns]'):\n",
    "            c_min = df[col].min()\n",
    "            c_max = df[col].max()\n",
    "            if str(col_type)[:3] == 'int':\n",
    "                if c_min > np.iinfo(np.int8).min and c_max < np.iinfo(\n",
    "                        np.int8).max:\n",
    "                    df[col] = df[col].astype(np.int8)\n",
    "                elif c_min > np.iinfo(np.int16).min and c_max < np.iinfo(\n",
    "                        np.int16).max:\n",
    "                    df[col] = df[col].astype(np.int16)\n",
    "                elif c_min > np.iinfo(np.int32).min and c_max < np.iinfo(\n",
    "                        np.int32).max:\n",
    "                    df[col] = df[col].astype(np.int32)\n",
    "                elif c_min > np.iinfo(np.int64).min and c_max < np.iinfo(\n",
    "                        np.int64).max:\n",
    "                    df[col] = df[col].astype(np.int64)\n",
    "            else:\n",
    "                if c_min > np.finfo(np.float16).min and c_max < np.finfo(\n",
    "                        np.float16).max:\n",
    "                    df[col] = df[col].astype(np.float16)\n",
    "                elif c_min > np.finfo(np.float32).min and c_max < np.finfo(\n",
    "                        np.float32).max:\n",
    "                    df[col] = df[col].astype(np.float32)\n",
    "                else:\n",
    "                    df[col] = df[col].astype(np.float64)\n",
    "\n",
    "    end_mem = df.memory_usage().sum() / 1024**2\n",
    "    print('Memory usage after optimization is: {:.2f} MB'.format(end_mem))\n",
    "    print('Decreased by {:.1f}%'.format(100 * (start_mem - end_mem) /\n",
    "                                        start_mem))\n",
    "\n",
    "    return df\n",
    "\n",
    "\n",
    "def import_data(file):\n",
    "    \"\"\"create a dataframe and optimize its memory usage\"\"\"\n",
    "    df = pd.read_csv(file, parse_dates=True, keep_date_col=True)\n",
    "    df = reduce_mem_usage(df)\n",
    "    return df"
   ]
  },
  {
   "cell_type": "markdown",
   "metadata": {},
   "source": [
    "### Data loading"
   ]
  },
  {
   "cell_type": "code",
   "execution_count": null,
   "metadata": {
    "ExecuteTime": {
     "end_time": "2022-04-29T21:24:14.144645Z",
     "start_time": "2022-04-29T21:24:13.692621Z"
    }
   },
   "outputs": [],
   "source": [
    "main_new_dataset = '../data/train_final_5f_all_labs_ext_med_hash'\n",
    "\n",
    "# this variable is the column that we will use as the target variable for the model\n",
    "target = 'INPT_DEATH_YN'\n",
    "#target = 'AKIN_EVENT'\n",
    "\n",
    "df = load_obj(main_new_dataset)\n",
    "print(df.shape)\n",
    "\n",
    "df.rename(columns={\n",
    "    \"OR_CASE_ID\": \"case_id\",\n",
    "    \"PAT_ID\": \"patientid\"\n",
    "},\n",
    "    inplace=True)"
   ]
  },
  {
   "cell_type": "code",
   "execution_count": null,
   "metadata": {
    "ExecuteTime": {
     "end_time": "2022-04-29T21:24:16.258875Z",
     "start_time": "2022-04-29T21:24:15.750143Z"
    }
   },
   "outputs": [],
   "source": [
    "df = df.loc[:, ~df.columns.duplicated()]"
   ]
  },
  {
   "cell_type": "code",
   "execution_count": null,
   "metadata": {
    "ExecuteTime": {
     "end_time": "2022-04-29T21:25:10.141268Z",
     "start_time": "2022-04-29T21:24:16.728231Z"
    }
   },
   "outputs": [],
   "source": [
    "df = reduce_mem_usage(df)"
   ]
  },
  {
   "cell_type": "markdown",
   "metadata": {},
   "source": [
    "### Data processing"
   ]
  },
  {
   "cell_type": "code",
   "execution_count": null,
   "metadata": {
    "ExecuteTime": {
     "end_time": "2022-04-29T21:25:11.839896Z",
     "start_time": "2022-04-29T21:25:10.145643Z"
    }
   },
   "outputs": [],
   "source": [
    "AKIN_THRESHOLD = 0\n",
    "\n",
    "df['AKIN_EVENT'] = df['AKI_AKIN_CLASS']\n",
    "\n",
    "\n",
    "df['PRIM_SURG_PROV_ID'] = df['PRIM_SURG_PROV_ID'].replace('E1032',\n",
    "                                                          1032).astype(int)\n",
    "df_train = df[df['DATE_OF_SERVICE'] < '2019-01-01']\n",
    "df_test = df[df['DATE_OF_SERVICE'] >= '2019-01-01']"
   ]
  },
  {
   "cell_type": "markdown",
   "metadata": {},
   "source": [
    "### Data cleaning and preparation"
   ]
  },
  {
   "cell_type": "code",
   "execution_count": null,
   "metadata": {
    "ExecuteTime": {
     "end_time": "2022-04-29T21:25:12.275342Z",
     "start_time": "2022-04-29T21:25:11.843990Z"
    }
   },
   "outputs": [],
   "source": [
    "numeric_features = df.select_dtypes(include='number').drop([\n",
    "    'encounter_id', 'ADMSN_ID', 'ASA_STATUS', 'CASE_START', 'CASE_END',\n",
    "    'LAST_EF_RESULT_DATE', 'TOT_RBC', 'CRYSTALLOID_ML', 'COLLOID_ML',\n",
    "    'FLOOR_2_ICU_YN', 'POSTOP_AKI_AKIN_CLASS', 'AKI_AKIN_CLASS', 'AKIN_EVENT',\n",
    "    'INPT_DEATH_YN', 'PRIM_SURG_PROV_MINUTES', 'OPEN_ACCESS_YN',\n",
    "    'GYN_ONC_ERAS_YN', 'patientid', 'or_case_id'\n",
    "],\n",
    "    axis=1).columns"
   ]
  },
  {
   "cell_type": "code",
   "execution_count": null,
   "metadata": {
    "ExecuteTime": {
     "end_time": "2022-04-29T21:25:12.315460Z",
     "start_time": "2022-04-29T21:25:12.282553Z"
    }
   },
   "outputs": [],
   "source": [
    "cat_features = df.select_dtypes(include=['object', 'category']).drop(\n",
    "    [\n",
    "        'case_id', 'SEX', 'LAST_EF', 'HCUP_DESC', 'PRIMARY_CPT', 'CPT_DESC',\n",
    "        'DATE_OF_SERVICE', 'CASE_SRV_NAME', 'PROC_NAME'\n",
    "    ],\n",
    "    axis=1).columns"
   ]
  },
  {
   "cell_type": "code",
   "execution_count": null,
   "metadata": {
    "ExecuteTime": {
     "end_time": "2022-04-29T21:25:19.715555Z",
     "start_time": "2022-04-29T21:25:12.321225Z"
    }
   },
   "outputs": [],
   "source": [
    "for var in cat_features:\n",
    "    try:\n",
    "        # drop_first uses k-1 dummies out of k categories\n",
    "        print(var)\n",
    "        if var not in df.columns.values:\n",
    "            print(\"Missing \", var)\n",
    "\n",
    "        df = pd.get_dummies(df, columns=[var], drop_first=True)\n",
    "        pass\n",
    "    except ValueError:\n",
    "        pass\n",
    "    except KeyError:\n",
    "        pass\n",
    "# remove categorical variables (string values)\n",
    "for var in cat_features:\n",
    "    try:\n",
    "        df.drop(var, axis=1, inplace=True)\n",
    "        pass\n",
    "    except ValueError:\n",
    "        print(var, 'already dropped')\n",
    "    except KeyError:\n",
    "        print(var, 'already dropped')"
   ]
  },
  {
   "cell_type": "code",
   "execution_count": null,
   "metadata": {
    "ExecuteTime": {
     "end_time": "2022-04-29T21:29:00.918353Z",
     "start_time": "2022-04-29T21:29:00.912704Z"
    }
   },
   "outputs": [],
   "source": [
    "#X = df_train\n",
    "y_train = df_train['INPT_DEATH_YN'].values\n",
    "#y = df_train['AKIN_EVENT'].values"
   ]
  },
  {
   "cell_type": "code",
   "execution_count": null,
   "metadata": {
    "ExecuteTime": {
     "end_time": "2022-04-29T21:25:32.258675Z",
     "start_time": "2022-04-29T21:25:30.444104Z"
    }
   },
   "outputs": [],
   "source": [
    "# Fit One Hot Encoder using default spase matrix\n",
    "encoder = OneHotEncoder(sparse=False)\n",
    "encoder.fit(X[cat_features])\n",
    "\n",
    "X_sparse = encoder.transform(X[cat_features])"
   ]
  },
  {
   "cell_type": "code",
   "execution_count": null,
   "metadata": {
    "ExecuteTime": {
     "end_time": "2022-04-29T21:25:38.997157Z",
     "start_time": "2022-04-29T21:25:38.991547Z"
    }
   },
   "outputs": [],
   "source": [
    "X_sparse = pd.DataFrame(X_sparse,\n",
    "                              columns=encoder.get_feature_names(cat_features))"
   ]
  },
  {
   "cell_type": "code",
   "execution_count": null,
   "metadata": {
    "ExecuteTime": {
     "end_time": "2022-04-29T21:25:42.173702Z",
     "start_time": "2022-04-29T21:25:40.079620Z"
    }
   },
   "outputs": [],
   "source": [
    "X_enc = np.hstack((X[numeric_features], X_sparse))"
   ]
  },
  {
   "cell_type": "code",
   "execution_count": null,
   "metadata": {
    "ExecuteTime": {
     "end_time": "2022-04-29T21:25:42.185465Z",
     "start_time": "2022-04-29T21:25:42.177315Z"
    }
   },
   "outputs": [],
   "source": [
    "feature_names = list(numeric_features.astype(str)) + list(\n",
    "                                encoder.get_feature_names(cat_features))"
   ]
  },
  {
   "cell_type": "code",
   "execution_count": null,
   "metadata": {
    "ExecuteTime": {
     "end_time": "2022-04-29T21:29:26.960217Z",
     "start_time": "2022-04-29T21:29:21.589441Z"
    }
   },
   "outputs": [],
   "source": [
    "X_enc_1 = pd.DataFrame(X_enc, columns=feature_names).fillna(0)"
   ]
  },
  {
   "cell_type": "code",
   "execution_count": null,
   "metadata": {
    "ExecuteTime": {
     "end_time": "2022-04-29T21:29:27.611780Z",
     "start_time": "2022-04-29T21:29:26.964671Z"
    }
   },
   "outputs": [],
   "source": [
    "X_enc_1.replace([np.inf, -np.inf], 0, inplace=True)"
   ]
  },
  {
   "cell_type": "code",
   "execution_count": null,
   "metadata": {
    "ExecuteTime": {
     "end_time": "2022-04-29T21:29:20.276428Z",
     "start_time": "2022-04-29T21:29:16.405362Z"
    },
    "scrolled": true
   },
   "outputs": [],
   "source": [
    "X_enc_1 = reduce_mem_usage(X_enc_1)"
   ]
  },
  {
   "cell_type": "markdown",
   "metadata": {},
   "source": [
    "### Apply Feature selection algorithm "
   ]
  },
  {
   "cell_type": "code",
   "execution_count": null,
   "metadata": {
    "ExecuteTime": {
     "end_time": "2022-04-29T21:40:58.397183Z",
     "start_time": "2022-04-29T21:29:52.389224Z"
    }
   },
   "outputs": [],
   "source": [
    "rf = RandomForestClassifier(n_jobs=-1, max_depth=7, class_weight='balanced')\n",
    "\n",
    "feat_selector = BorutaPy(rf, n_estimators='auto', random_state=1, verbose=2)\n",
    "feat_selector.fit(X_enc_1.astype('float32').values, y_train)"
   ]
  },
  {
   "cell_type": "code",
   "execution_count": null,
   "metadata": {},
   "outputs": [],
   "source": [
    "feat_selector.support_\n",
    "feat_selector.ranking_\n",
    "\n",
    "final_features = list()\n",
    "\n",
    "features = [f for f in X_enc_1.columns]\n",
    "indexes = np.where(feat_selector.support_ == True)\n",
    "for x in np.nditer(indexes):\n",
    "    final_features.append(feature_names[x])"
   ]
  },
  {
   "cell_type": "markdown",
   "metadata": {},
   "source": [
    "### Save results"
   ]
  },
  {
   "cell_type": "code",
   "execution_count": null,
   "metadata": {},
   "outputs": [],
   "source": [
    "json.dump(final_features, open('feature_importance_final_akin.txt', 'w'))"
   ]
  }
 ],
 "metadata": {
  "hide_input": false,
  "kernelspec": {
   "display_name": "Python 3",
   "language": "python",
   "name": "python3"
  },
  "language_info": {
   "codemirror_mode": {
    "name": "ipython",
    "version": 3
   },
   "file_extension": ".py",
   "mimetype": "text/x-python",
   "name": "python",
   "nbconvert_exporter": "python",
   "pygments_lexer": "ipython3",
   "version": "3.8.5"
  },
  "toc": {
   "base_numbering": 1,
   "nav_menu": {},
   "number_sections": true,
   "sideBar": true,
   "skip_h1_title": false,
   "title_cell": "Table of Contents",
   "title_sidebar": "Contents",
   "toc_cell": false,
   "toc_position": {},
   "toc_section_display": true,
   "toc_window_display": false
  }
 },
 "nbformat": 4,
 "nbformat_minor": 2
}

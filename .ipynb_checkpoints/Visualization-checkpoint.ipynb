{
 "cells": [
  {
   "cell_type": "code",
   "execution_count": null,
   "metadata": {},
   "outputs": [],
   "source": [
    "import json\n",
    "import string\n",
    "import warnings\n",
    "import matplotlib.pyplot as plt\n",
    "import pandas as pd\n",
    "import numpy as np\n",
    "import sys\n",
    "import timeit\n",
    "\n",
    "from collections import Counter\n",
    "from gensim.models import Word2Vec\n",
    "\n",
    "import pickle\n",
    "import re\n",
    "import hashlib\n",
    "import scipy.stats as st\n",
    "\n",
    "from sklearn.metrics import roc_curve, precision_recall_curve, auc\n",
    "import xgboost as xgb\n",
    "from tqdm import tqdm\n",
    "\n",
    "from scipy.sparse import hstack, csr_matrix\n",
    "\n",
    "warnings.filterwarnings(\"ignore\")"
   ]
  },
  {
   "cell_type": "markdown",
   "metadata": {},
   "source": [
    "## Helper functions"
   ]
  },
  {
   "cell_type": "code",
   "execution_count": null,
   "metadata": {},
   "outputs": [],
   "source": [
    "def save_obj(obj, name):\n",
    "    with open(name + '.pkl', 'wb') as f:\n",
    "        pickle.dump(obj, f, pickle.HIGHEST_PROTOCOL)\n",
    "\n",
    "\n",
    "def load_obj(name):\n",
    "    with open(name + '.pkl', 'rb') as f:\n",
    "        return pickle.load(f)"
   ]
  },
  {
   "cell_type": "markdown",
   "metadata": {},
   "source": [
    "## Load data "
   ]
  },
  {
   "cell_type": "code",
   "execution_count": null,
   "metadata": {},
   "outputs": [],
   "source": [
    "dtest1 = xgb.DMatrix('matrix/dtest1',)\n",
    "dtest2 = xgb.DMatrix('matrix/dtest2')\n",
    "dtest3 = xgb.DMatrix('matrix/dtest3')\n",
    "dtest4 = xgb.DMatrix('matrix/dtest4')\n",
    "dtest5 = xgb.DMatrix('matrix/dtest5')\n",
    "dtest6 = xgb.DMatrix('matrix/dtest6')\n",
    "dtest7 = xgb.DMatrix('matrix/dtest7')\n",
    "dtest8 = xgb.DMatrix('matrix/dtest8')\n",
    "dtest9 = xgb.DMatrix('matrix/dtest9')"
   ]
  },
  {
   "cell_type": "markdown",
   "metadata": {},
   "source": [
    "## Load models"
   ]
  },
  {
   "cell_type": "code",
   "execution_count": null,
   "metadata": {},
   "outputs": [],
   "source": [
    "model1 = load_obj('model/xgboost_model1_akin')\n",
    "model2 = load_obj('model/xgboost_model2_akin')\n",
    "model3 = load_obj('model/xgboost_model3_akin')\n",
    "model4 = load_obj('model/xgboost_model4_akin')\n",
    "model5 = load_obj('model/xgboost_model5_akin')\n",
    "model6 = load_obj('model/xgboost_model6_akin')\n",
    "model7 = load_obj('model/xgboost_model7_akin')\n",
    "model8 = load_obj('model/xgboost_model8_akin')\n",
    "model9 = load_obj('model/xgboost_model9_akin')"
   ]
  },
  {
   "cell_type": "code",
   "execution_count": null,
   "metadata": {},
   "outputs": [],
   "source": [
    "y_test = df_test['INPT_DEATH_YN'].values\n",
    "#y_test = df_test['AKIN_EVENT'].values"
   ]
  },
  {
   "cell_type": "markdown",
   "metadata": {},
   "source": [
    "## ROC Curve"
   ]
  },
  {
   "cell_type": "code",
   "execution_count": null,
   "metadata": {},
   "outputs": [],
   "source": [
    "#ROC Curve\n",
    "y_pred_prob1 = model1.predict(dtest1)\n",
    "fpr1 , tpr1, thresholds1 = roc_curve(y_test, y_pred_prob1)\n",
    "\n",
    "\n",
    "y_pred_prob2 = model2.predict(dtest2)\n",
    "fpr2 , tpr2, thresholds2 = roc_curve(y_test, y_pred_prob2)\n",
    "\n",
    "y_pred_prob3 = model3.predict(dtest3)\n",
    "fpr3 , tpr3, thresholds3 = roc_curve(y_test, y_pred_prob3)\n",
    "\n",
    "y_pred_prob4 = model4.predict(dtest4)\n",
    "fpr4 , tpr4, thresholds4 = roc_curve(y_test, y_pred_prob4)\n",
    "\n",
    "y_pred_prob5 = model5.predict(dtest5)\n",
    "fpr5 , tpr5, thresholds5 = roc_curve(y_test, y_pred_prob5)\n",
    "\n",
    "y_pred_prob6 = model6.predict(dtest6)\n",
    "fpr6 , tpr6, thresholds6 = roc_curve(y_test, y_pred_prob6)\n",
    "\n",
    "y_pred_prob7 = model7.predict(dtest7)\n",
    "fpr7, tpr7, thresholds7 = roc_curve(y_test, y_pred_prob7)\n",
    "\n",
    "y_pred_prob8 = model8.predict(dtest8)\n",
    "fpr8 , tpr8, thresholds6 = roc_curve(y_test, y_pred_prob8)\n",
    "\n",
    "y_pred_prob9 = model9.predict(dtest9)\n",
    "fpr9 , tpr9, thresholds9 = roc_curve(y_test, y_pred_prob9)\n",
    "\n",
    "plt.figure(figsize=(15,15))\n",
    "plt.plot([0,1],[0,1], 'k--')\n",
    "plt.plot(fpr1, tpr1, label= \"Model1:baseline\")\n",
    "plt.plot(fpr2, tpr2, label= \"Model2:labs\")\n",
    "plt.plot(fpr3, tpr3, label= \"Model3:proc_name\",c='y')\n",
    "plt.plot(fpr4, tpr4, label= \"Model4:medications\")\n",
    "plt.plot(fpr5, tpr5, label= \"Model5:base+labs\",c='r',linewidth=3.0)\n",
    "plt.plot(fpr6, tpr6, label= \"Model6:base+proc_name\")\n",
    "plt.plot(fpr7, tpr7, label= \"Model7:base+meds\")\n",
    "plt.plot(fpr8, tpr8, label= \"Model8:all sets\",c='b',linewidth=3.0)\n",
    "plt.plot(fpr9, tpr9, label= \"Model9:selected features\",c='g',linewidth=3.0)\n",
    "plt.legend( prop={'size': 25})\n",
    "plt.xlabel(\"FPR\",fontsize=25)\n",
    "plt.ylabel(\"TPR\",fontsize=25)\n",
    "plt.title('Receiver Operating Characteristic (ROC curves). AKI event',fontsize=25)\n",
    "plt.show()\n",
    "#plt.savefig('ROC_akin.png')"
   ]
  },
  {
   "cell_type": "markdown",
   "metadata": {},
   "source": [
    "## PR curve"
   ]
  },
  {
   "cell_type": "code",
   "execution_count": null,
   "metadata": {},
   "outputs": [],
   "source": [
    "#ROC Curve\n",
    "\n",
    "y_pred_prob1 = model1.predict(dtest1)\n",
    "#fpr1 , tpr1, thresholds1 = roc_curve(y_test, y_pred_prob1)\n",
    "precision1, recall1, thresholds1 = precision_recall_curve(y_test, y_pred_prob1)\n",
    "\n",
    "y_pred_prob2 = model2.predict(dtest2)\n",
    "precision2, recall2, thresholds2 = precision_recall_curve(y_test, y_pred_prob2)\n",
    "\n",
    "y_pred_prob3 = model3.predict(dtest3)\n",
    "precision3, recall3, thresholds3 = precision_recall_curve(y_test, y_pred_prob3)\n",
    "\n",
    "\n",
    "y_pred_prob4 = model4.predict(dtest4)\n",
    "precision4, recall4, thresholds4 = precision_recall_curve(y_test, y_pred_prob4)\n",
    "\n",
    "\n",
    "y_pred_prob5 = model5.predict(dtest5)\n",
    "precision5, recall5, thresholds5 = precision_recall_curve(y_test, y_pred_prob5)\n",
    "\n",
    "y_pred_prob6 = model6.predict(dtest6)\n",
    "precision6, recall6, thresholds6 = precision_recall_curve(y_test, y_pred_prob6)\n",
    "\n",
    "\n",
    "y_pred_prob7 = model7.predict(dtest7)\n",
    "precision7, recall7, thresholds7 = precision_recall_curve(y_test, y_pred_prob7)\n",
    "\n",
    "\n",
    "y_pred_prob8 = model8.predict(dtest8)\n",
    "precision8, recall8, thresholds8 = precision_recall_curve(y_test, y_pred_prob8)\n",
    "\n",
    "\n",
    "y_pred_prob9 = model9.predict(dtest9)\n",
    "precision9, recall9, thresholds9 = precision_recall_curve(y_test, y_pred_prob9)\n",
    "\n",
    "\n",
    "\n",
    "plt.figure(figsize=(15,15))\n",
    "\n",
    "plt.plot(precision1,recall1, label= \"Model1:baseline\")\n",
    "plt.plot(recall2,precision2,  label= \"Model2:labs\")\n",
    "plt.plot(recall3,precision3,  label= \"Model3:proc_name\",c='y')\n",
    "plt.plot(recall4,precision4,  label= \"Model4:medications\")\n",
    "ё\n",
    "plt.legend( prop={'size': 15})\n",
    "plt.xlabel(\"Recall\",fontsize=15)\n",
    "plt.ylabel(\"Precision\",fontsize=15)\n",
    "plt.title('Precision-Recall (PR curves).AKIN EVENT',fontsize=15)\n",
    "plt.show()\n",
    "#plt.savefig('plots/PR_akin.png')"
   ]
  }
 ],
 "metadata": {
  "hide_input": false,
  "kernelspec": {
   "display_name": "Python 3",
   "language": "python",
   "name": "python3"
  },
  "language_info": {
   "codemirror_mode": {
    "name": "ipython",
    "version": 3
   },
   "file_extension": ".py",
   "mimetype": "text/x-python",
   "name": "python",
   "nbconvert_exporter": "python",
   "pygments_lexer": "ipython3",
   "version": "3.8.5"
  },
  "toc": {
   "base_numbering": 1,
   "nav_menu": {},
   "number_sections": true,
   "sideBar": true,
   "skip_h1_title": false,
   "title_cell": "Table of Contents",
   "title_sidebar": "Contents",
   "toc_cell": false,
   "toc_position": {},
   "toc_section_display": true,
   "toc_window_display": false
  }
 },
 "nbformat": 4,
 "nbformat_minor": 4
}
